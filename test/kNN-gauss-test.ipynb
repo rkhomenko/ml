{
 "cells": [
  {
   "cell_type": "markdown",
   "metadata": {},
   "source": [
    "# Тестирование на нормальном распределении"
   ]
  },
  {
   "cell_type": "code",
   "execution_count": 1,
   "metadata": {},
   "outputs": [],
   "source": [
    "import numpy as np\n",
    "import matplotlib.pyplot as plt\n",
    "import sys\n",
    "\n",
    "sys.path.append('../metric')\n",
    "sys.path.append('../util')\n",
    "\n",
    "import nn\n",
    "import metrics\n",
    "import loss\n",
    "import train_set"
   ]
  },
  {
   "cell_type": "code",
   "execution_count": 2,
   "metadata": {},
   "outputs": [],
   "source": [
    "n = 5\n",
    "size = 30\n",
    "mus= np.array([[-1, 1], [-1, 0], [0, -1], [1, 0], [1, 1]])\n",
    "sigmas = np.array([[0.5, 0.5], [0.5, 0.5],\n",
    "                   [0.5, 0.5], [0.5, 0.5], [0.5, 0.5]])\n",
    "train_xs, test_xs, train_ys, test_ys = train_set.gauss_cls(n, size, 0.3,\n",
    "                                                           mus, sigmas)\n",
    "train_len = np.size(train_xs, axis=0)\n",
    "test_len = np.size(test_xs, axis=0)"
   ]
  },
  {
   "cell_type": "code",
   "execution_count": 3,
   "metadata": {
    "scrolled": false
   },
   "outputs": [
    {
     "data": {
      "image/png": "[encoded data removed]",
      "text/plain": [
       "<Figure size 432x288 with 1 Axes>"
      ]
     },
     "metadata": {
      "needs_background": "light"
     },
     "output_type": "display_data"
    }
   ],
   "source": [
    "k = 20\n",
    "color = ['r', 'g', 'b', 'y', 'm']\n",
    "classes = np.zeros(test_len, dtype=np.int)\n",
    "for i in range(test_len):\n",
    "    cls, results = nn.knn(n, k,\n",
    "                          train_xs, train_ys,\n",
    "                          test_xs[i, :],\n",
    "                          metrics.euclidean)\n",
    "    classes[i] = cls    \n",
    "\n",
    "def plot(train_xs, train_ys,\n",
    "         test_xs, test_ys,\n",
    "         classes, color):\n",
    "    colors = [color[train_ys[i]] for i in range(train_len)]\n",
    "    plt.scatter(train_xs[:, 0], train_xs[:, 1], c=colors, marker='+')\n",
    "\n",
    "    plt.scatter(test_xs[:, 0],\n",
    "                test_xs[:, 1],\n",
    "                c=[color[cls] for cls in classes],\n",
    "                marker='^')\n",
    "\n",
    "    plt.scatter(test_xs[:, 0],\n",
    "                test_xs[:, 1],\n",
    "                c=[color[cls] for cls in test_ys],\n",
    "                marker='*')\n",
    "plot(train_xs, train_ys, test_xs, test_ys, classes, color)"
   ]
  },
  {
   "cell_type": "code",
   "execution_count": 4,
   "metadata": {},
   "outputs": [
    {
     "data": {
      "text/plain": [
       "0.2"
      ]
     },
     "execution_count": 4,
     "metadata": {},
     "output_type": "execute_result"
    }
   ],
   "source": [
    "loss.empirical_risk_cls(classes, test_ys)"
   ]
  },
  {
   "cell_type": "code",
   "execution_count": null,
   "metadata": {},
   "outputs": [],
   "source": [
    "def a(n, k, xs, ys, u):\n",
    "    return nn.knn(n, k, xs, ys, u, metrics.euclidean)\n",
    "\n",
    "opt_k, ks = nn.leave_one_out(n, train_len, a, train_xs, train_ys)"
   ]
  },
  {
   "cell_type": "code",
   "execution_count": null,
   "metadata": {},
   "outputs": [],
   "source": [
    "opt_k"
   ]
  },
  {
   "cell_type": "code",
   "execution_count": null,
   "metadata": {},
   "outputs": [],
   "source": [
    "plt.plot(np.arange(0, np.size(ks, axis=0), 1), ks)"
   ]
  },
  {
   "cell_type": "code",
   "execution_count": null,
   "metadata": {},
   "outputs": [],
   "source": [
    "classes = np.zeros(test_len, dtype=np.int)\n",
    "for i in range(test_len):\n",
    "    cls, results = nn.knn(n, opt_k,\n",
    "                          train_xs, train_ys,\n",
    "                          test_xs[i, :],\n",
    "                          metrics.euclidean)\n",
    "    classes[i] = cls\n",
    "\n",
    "plot(train_xs, train_ys, test_xs, test_ys, classes, color)"
   ]
  },
  {
   "cell_type": "code",
   "execution_count": null,
   "metadata": {},
   "outputs": [],
   "source": [
    "loss.empirical_risk_cls(classes, test_ys)"
   ]
  },
  {
   "cell_type": "code",
   "execution_count": null,
   "metadata": {},
   "outputs": [],
   "source": []
  }
 ],
 "metadata": {
  "kernelspec": {
   "display_name": "Python 3",
   "language": "python",
   "name": "python3"
  },
  "language_info": {
   "codemirror_mode": {
    "name": "ipython",
    "version": 3
   },
   "file_extension": ".py",
   "mimetype": "text/x-python",
   "name": "python",
   "nbconvert_exporter": "python",
   "pygments_lexer": "ipython3",
   "version": "3.7.3"
  }
 },
 "nbformat": 4,
 "nbformat_minor": 2
}
